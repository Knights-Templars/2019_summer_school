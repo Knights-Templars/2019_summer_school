{
 "cells": [
  {
   "cell_type": "markdown",
   "metadata": {},
   "source": [
    "# Classical Statistical Tests: Hypothesis Testing"
   ]
  },
  {
   "cell_type": "markdown",
   "metadata": {},
   "source": [
    "## 1. Introduction\n",
    "\n",
    "##### Hypothesis\n",
    "> a statement about a population parameter\n",
    "\n",
    "Examples:\n",
    "- is the mean value consistent with zero?\n",
    "- is the random variable normally distributed?\n",
    "\n",
    "##### Null ($H_0$) hypothesis and alternative ($H_1$) hypothesis\n",
    "> two complementary hypotheses - a hypothesis test points at one of them\n",
    "\n",
    "Example:\n",
    "- $H_0$: mean value $\\mu = 0$\n",
    "- $H_1$: $\\mu \\neq 0$\n",
    "\n",
    "##### Hypothesis testing\n",
    "> to decide whether a hypothesis is *true* or *not*, based on empirical data\n",
    "\n",
    "##### Test statistic\n",
    "> quantity which is constrained for a given hypothesis test and confidence level\n",
    "\n",
    "### 1.1. Null and alternative hypotheses\n",
    "Usually, we use *null* to denote the simplest hypothesis. E.g. when testing if the there is a peak in a signal, the null hypothesis is:\n",
    "\n",
    "> $H_0$: there is no peak - the data are explained as random fluctuations\n",
    "\n",
    "The alternative hypothesis is the one for which we require overwhelming evidence. For example, when testing the General Relativity through Gravitational Wave observations, then\n",
    "\n",
    "> $H_0$: the data is consistent with GR\n",
    "\n",
    "> $H_1$: the data is not consistent with GR\n",
    "\n",
    "Most tests are designed to directly test whether $H_0$ holds. Also, in Statistics we want to highlight the fact that there is an uncertainty in any hypothesis test - we must be careful when stating results. Therefore, the two outcomes are commonly phrased as:\n",
    "\n",
    "1. **we do not reject $H_0$** instead of *we accept $H_0$*\n",
    "2. **we reject $H_0$** instead of *we accept $H_1$*\n",
    "\n",
    "### 1.2. Type I and II errors\n",
    "\n",
    "In statistics, there is always a probability of a spurious result. This is why we quantify uncertainties, or in the case of hypothesis tests, the probability of wrong conclusions. There are two types of errors in hypothesis testing:\n",
    "\n",
    "* Probability of Type I error: $\\alpha$ or **significance level**\n",
    "* Probability of Type II error: $\\beta$ or **statistical power**\n",
    "\n",
    "| Truth \\ Decision | Do not reject $H_0$ | Reject $H_0$  |\n",
    "|------------------|---------------------|---------------|\n",
    "|   **$H_0$**      | Correct             | Type I error  |\n",
    "|   **$H_1$**      | Type II error       | Correct       |\n",
    "\n",
    "Because in most hypothesis tests $\\beta$ is harder to quantify and Type I errors are considered more dangerous, the experimeneters tend to pick a small value for $\\alpha$ to reach into a conclusion.\n",
    "\n",
    "For example, in a particle acceleration experiment we may require $a = 0.000001$ for the detection of new particles.\n",
    "\n",
    "**The probability for Type I/II errors depend on the data at hand and the design of the test. Changing the latter may eliminate or significantly reduce the probability for a Type I or Type II error, but you cannot do both!**\n",
    "\n",
    "### 1.3. $p$-values\n",
    "We do not have to choose between the hypotheses - we may leave the decision to the reader. So, instead of setting value for $\\alpha$ and reporting an outcome, we provide a $p$-value: the probability for $H_0$ based on our current sample.\n",
    "\n",
    "For example, we have observed a field containing an open cluster. Each star detection may be a signal from an existing star or a random fluctuation of the background. We can give to the community a table of all detections with a $p$-value for each one of them. Here $H_0$ is *the values of the pixels are a background fluctuation*.\n",
    "\n",
    "Now, a researcher has downloaded the table and is interested in the spatial distribution of stars. As they require a large, complete sample, they may not be very conservative and select all stars with $p < 0.05$. This is a risk because you risk *contamination*, but in principle, you can run the analysis for various $p$-value cuts!\n",
    "\n",
    "Another researcher might want to study the spectral properties of the stars in the open cluster. Though, spectroscopic observations require more time and money. To avoid observing the background, only bona fide targets are selected: e.g. $p < 0.0001$."
   ]
  },
  {
   "cell_type": "markdown",
   "metadata": {},
   "source": [
    "## 2. Example: Z-test\n",
    "\n",
    "### 2.1. A theoretical prediction...\n",
    "\n",
    "A theoretical model for the formation of globular clusters (GCs) in spiral galaxies predicts that their absolute magnitude in the near infrared K-band is normally distributed with mean value equal to $-10.2\\ \\rm mag$ and standard deviation $1.5\\ \\rm mag$."
   ]
  },
  {
   "cell_type": "code",
   "execution_count": 1,
   "metadata": {},
   "outputs": [
    {
     "data": {
      "text/plain": [
       "<Figure size 640x480 with 1 Axes>"
      ]
     },
     "metadata": {},
     "output_type": "display_data"
    }
   ],
   "source": [
    "import numpy as np\n",
    "import scipy.stats as st\n",
    "import matplotlib.pyplot as plt\n",
    "\n",
    "model_mean = -10.2\n",
    "model_std = 1.5\n",
    "\n",
    "# plot the distribution\n",
    "x = np.linspace(-15.0, -5.0, 200)\n",
    "y = st.norm.pdf(x, loc=model_mean, scale=model_std)\n",
    "plt.plot(x, y, \"k-\")\n",
    "plt.xlabel(\"Absolute magnitude (mag)\")\n",
    "plt.ylabel(\"Probability density\")\n",
    "plt.show()"
   ]
  },
  {
   "cell_type": "markdown",
   "metadata": {},
   "source": [
    "### 2.2. Empirical data...\n",
    "\n",
    "From a survey of Milky Way globular clusters [1], we get the absolute magnitudes for 81 GCs."
   ]
  },
  {
   "cell_type": "code",
   "execution_count": 2,
   "metadata": {},
   "outputs": [
    {
     "name": "stdout",
     "output_type": "stream",
     "text": [
      "Loaded 81 globular cluster absolute magnitudes for the Milky Way\n"
     ]
    },
    {
     "data": {
      "image/png": "[encoded data removed]",
      "text/plain": [
       "<Figure size 432x288 with 1 Axes>"
      ]
     },
     "metadata": {
      "needs_background": "light"
     },
     "output_type": "display_data"
    }
   ],
   "source": [
    "# Load Milky Way globular cluster absolute magnitudes\n",
    "absolute_MWG = np.loadtxt(\"GC_MWG_absolute.dat\")\n",
    "N_MWG = len(absolute_MWG)\n",
    "print(\"Loaded\", N_MWG, \"globular cluster absolute magnitudes for the Milky Way\")\n",
    "\n",
    "plt.figure()\n",
    "plt.plot(x, y, \"k-\", label=\"Model\")\n",
    "plt.hist(absolute_MWG, bins=15, histtype=\"step\", color=\"r\", density=True, label=\"Sample\")\n",
    "plt.xlabel(\"Absolute magnitude (mag)\")\n",
    "plt.ylabel(\"Probability density\")\n",
    "plt.legend()\n",
    "plt.show()"
   ]
  },
  {
   "cell_type": "markdown",
   "metadata": {},
   "source": [
    "### 2.3. Agreement between model and sample\n",
    "The model seems to agree with the observations but in science we need to quantify such aggrements. To test it without bias, we forget about the data, and design a hypothesis test. Then we apply the test on the data and report the outcome.\n",
    "\n",
    "#### Step 1. We define the null hypothesis\n",
    "\n",
    "> $H_0$: the mean value of the absolute magnitude of the Milky Way GCs is consistent with model\n",
    "\n",
    "#### Step 2. We decide a significance level\n",
    "\n",
    "We decide a significance level of $5\\%$. This value is commonly used in many scientific disciplines (medicine, psychology, etc.) Therefore,\n",
    "\n",
    "> $a = 0.05$\n",
    "\n",
    "This is the lower limit on the probability at which the Type I error is allowed to occur. If the probability is lower, then we reject the null hypothesis.\n",
    "\n",
    "#### Step 3. The statistic\n",
    "\n",
    "For $N$ observations $x_i$ the sample mean, $\\bar{x}$ is\n",
    "\n",
    "$$\\bar{x} = \\sum\\limits_{i=1}^{N} x_i$$\n",
    "\n",
    "For normally distributed observations, $x_i \\sim \\mathcal{N}(\\mu, \\sigma)$, it is known that the sample mean is also normally distributed with population mean ($\\mu$) and standard deviation equal to the standard deviation of the population ($\\sigma$), devided by the square root of the size of the sample ($N$):\n",
    "\n",
    "$$\\bar{x} \\sim \\mathcal{N}\\left(\\mu, \\frac{\\sigma}{\\sqrt{N}}\\right)$$\n",
    "\n",
    "This standard deviation is also called *standard error of the mean*:\n",
    "\n",
    "$${\\rm SE} = \\frac{\\sigma}{\\sqrt{N}}$$\n",
    "\n",
    "Therefore the probability density function (PDF) of the sample mean is:\n",
    "\n",
    "$$f(\\bar{x}) = \\frac{1}{\\sqrt{2\\pi \\ \\rm SE^2}} \\exp\\left[-\\frac{\\left(\\bar{x} - \\mu\\right)^2}{2 \\ \\rm SE^2}\\right]$$\n",
    "\n",
    "Because of the ability to shift and scale the normal distribution, the quantity\n",
    "\n",
    "$$ Z = \\frac{\\bar{x} - \\mu}{\\rm SE} $$\n",
    "\n",
    "follows the standard normal distribution (i.e. mean value $0$ and standard deviation $1$):\n",
    "\n",
    "$$ f(Z) = \\frac{1}{\\sqrt{2\\pi}} e^{-\\frac{1}{2}Z^2}$$\n",
    "\n",
    "Therefore, by just computing the $Z$ *score* of our sample, $z$, we can easily use tables for the normal distribution or Python code to quickly compute the probability at which $Z$ is below or above a specific value.\n",
    "\n",
    "We call this value $Z$ *statistic* or *score* and it used whenever the quantity is normally distributed.\n",
    "\n",
    "#### Step 4. p-value or, critical value for the statistic\n",
    "\n",
    "Because of the null hypothesis, we must convert the statement \"*consistent with...*\" to a mathematical statement. In this example, we can consider that the sample mean is inconsistent with the model prediction if its significantly lower or higher. Therefore, the Type I error is equal to probability that the $Z$ score deviates more than the absolute deviation of the score for the sample at hand:\n",
    "\n",
    "$$ p = P(Z > |z|) + P(Z < -|z|) $$\n",
    "\n",
    "Using the symmetry of normal distribution's PDF and the fact that $P({\\rm A}) + P({\\rm not A}) = 1$, we arrive at\n",
    "\n",
    "$$ p = \\cdots = 2 \\left(1 - P(Z < |z|)\\right) = \\cdots = 2 P(Z < -|z|)$$\n",
    "\n",
    "or simply,\n",
    "\n",
    "$$ p = 2 \\Phi(-|z|) $$\n",
    "\n",
    "where $\\Phi(z)$ is the CDF of the standard normal distirbution.\n",
    "\n",
    "If we find $p < a = 0.05$ then we reject the null hypothesis.\n",
    "\n",
    "Alternatively, we can set **critical** values of the $Z$ score that corresponds to the significance level. As rejection should occur either for higher or lower values (two-tail test), we find two critical values, one for each tail, corresponding to $a/2$ probability:\n",
    "\n",
    "$$ Z_{\\rm crit,1} = \\Phi^{-1}\\left(\\frac{a}{2}\\right) = -1.96 $$\n",
    "\n",
    "$$ Z_{\\rm crit,2} = \\Phi^{-1}\\left(1 - \\frac{a}{2}\\right) = +1.96 $$\n",
    "\n",
    "Because of the symmetry of the normal distribution we could also compute a critical value for the absolute $Z$ score: *how many **sigmas** away the measured value can be from the model prediction*:\n",
    "\n",
    "$$ |Z|_{\\rm crit} = 1.96 $$\n",
    "\n",
    "\n",
    "#### Step 5. Decision\n",
    "\n",
    "Now that we defined all the steps, we can apply it on the data. In the following code, we plot the sample, compute the statistic and print the outcome based on the critical value! Alternatively we could use the $p$-value, which we print anyway."
   ]
  },
  {
   "cell_type": "code",
   "execution_count": 3,
   "metadata": {},
   "outputs": [
    {
     "name": "stdout",
     "output_type": "stream",
     "text": [
      "Z critical     : 1.960\n",
      "\n",
      "Sample mean    : -10.324\n",
      "Standard error : 0.167\n",
      "Sample Z score : -0.742\n",
      "p-value        : 0.458\n",
      "\n",
      "We cannot reject the null hypothesis.\n"
     ]
    }
   ],
   "source": [
    "alpha = 0.05\n",
    "z_critical = abs(st.norm.ppf(alpha / 2.0))\n",
    "print(\"Z critical     : {:.3f}\".format(z_critical))\n",
    "print()\n",
    "\n",
    "sample_mean = np.mean(absolute_MWG)\n",
    "standard_error = model_std / (N_MWG ** 0.5)\n",
    "z_score = (sample_mean - model_mean) / standard_error\n",
    "print(\"Sample mean    : {:.3f}\".format(sample_mean))\n",
    "print(\"Standard error : {:.3f}\".format(standard_error))\n",
    "print(\"Sample Z score : {:.3f}\".format(z_score))\n",
    "\n",
    "pvalue = 2 * st.norm.cdf(-abs(z_score))\n",
    "print(\"p-value        : {:.3g}\".format(pvalue))\n",
    "print()\n",
    "\n",
    "if abs(z_score) > abs(z_critical):\n",
    "    print(\"We reject the null hypothesis.\")\n",
    "else:\n",
    "    print(\"We cannot reject the null hypothesis.\")"
   ]
  },
  {
   "cell_type": "markdown",
   "metadata": {},
   "source": [
    "### 2.4. Questions\n",
    "\n",
    "1. What is the difference between $Z$ and $t$-statistic?\n",
    "2. What if the underlying distribution was not Gaussian? What would be the distribution of the sample mean?\n"
   ]
  },
  {
   "cell_type": "markdown",
   "metadata": {},
   "source": [
    "## 3. Common hypothesis tests\n",
    "During the last three centuries, scientists performed numerous statistical tests. A few of them are encountered very often because they try to answer simple questions on data following known distributions. Others, are generic, parametric-free and therefore, applicable in many circumstances.\n",
    "\n",
    "### 3.1. Student's $t$-test\n",
    "\n",
    "> Is the mean value of a sample equal to the population mean (without knowing the population standard deviation)?\n",
    "\n",
    "What if the population standard deviation is unknown? In this case, the standard deviation of the sample mean is estimated from the data. Though, the sample mean distribution now follows the Student's $t$-distribution (after applying a shift and a rescale)\n",
    "\n",
    "Specifically, the statistic is\n",
    "\n",
    "$$ t = \\frac{\\bar{x} - \\mu}{s / \\sqrt{n}} $$\n",
    "\n",
    "which is similar to the $Z$ statistic except for the substitution of the population std. dev. $\\sigma$ with the sample standard deviation $s$.\n",
    "\n",
    "$t$-distribution is similar to the Gaussian but has 'heavier' tails when the sample size is small ($n$):"
   ]
  },
  {
   "cell_type": "code",
   "execution_count": 4,
   "metadata": {},
   "outputs": [
    {
     "data": {
      "image/png": "[encoded data removed]",
      "text/plain": [
       "<Figure size 432x288 with 4 Axes>"
      ]
     },
     "metadata": {
      "needs_background": "light"
     },
     "output_type": "display_data"
    }
   ],
   "source": [
    "plt.figure()\n",
    "x = np.linspace(-3, 3, 100)\n",
    "for subplot_index, degrees_of_freedom in zip([1, 2, 3, 4], [1, 3, 10, 30]):\n",
    "    plt.subplot(2, 2, subplot_index)\n",
    "    y_n = st.norm.pdf(x)\n",
    "    y_t = st.t.pdf(x, degrees_of_freedom)\n",
    "    plt.title(\"n = {}\".format(degrees_of_freedom))\n",
    "    plt.plot(x, y_n, \"r-\", label=\"Normal\")\n",
    "    plt.plot(x, y_t, \"k--\", label=\"Student's t\")\n",
    "plt.tight_layout()\n",
    "plt.show()"
   ]
  },
  {
   "cell_type": "markdown",
   "metadata": {},
   "source": [
    "If the model didn't provide an estimate on the population standard deviation ($\\sigma$) or, there are reasons to believe that it is not reflected in the data (e.g. the model does not account for distance and photometry uncertainties)... then we may chose to test the consistency of the mean values without using $\\sigma$.\n",
    "\n",
    "In the following cell, we apply the t-test to test the hypothesis the the mean absolute magnitude of the Milky Way GCs is consistent with the mean value that the model predicts, forgetting about the prediction on the standard deviation. "
   ]
  },
  {
   "cell_type": "code",
   "execution_count": 5,
   "metadata": {},
   "outputs": [
    {
     "name": "stdout",
     "output_type": "stream",
     "text": [
      "Statistic = -0.617\n",
      "p-value   = 0.539\n"
     ]
    }
   ],
   "source": [
    "statistic, pvalue = st.ttest_1samp(absolute_MWG, model_mean)\n",
    "print(\"Statistic = {:.3g}\".format(statistic))\n",
    "print(\"p-value   = {:.3g}\".format(pvalue))"
   ]
  },
  {
   "cell_type": "markdown",
   "metadata": {},
   "source": [
    "### 3.2. Two-sample $t$-test\n",
    "\n",
    "> Do indpendent samples $A$ and $B$ have the same expected value?\n",
    "\n",
    "The function `ttest_1samp` that we used in the previous example, performs the *one sample* $t$-test, meaning that we test whether the mean of one sample is consistent with a specific value.\n",
    "\n",
    "In the case we want to test whether two samples' means are consistent, we may use the *two sample* $t$-test which is provided by `scipy.stats` function `ttest_ind` computes the standard 2-sample t-test. Though it **assumes** that the variance of the two populations is equal. If not, then we use the argument `equal_var`: if set to `False` then the Welch's t-test is used.\n",
    "\n",
    "Imagine the case where the Milky Way GC data was collected by two independent surveys producing two samples A and B. In the cell below, we simulate this scenario by dividing the data randomly into two sets:"
   ]
  },
  {
   "cell_type": "code",
   "execution_count": 6,
   "metadata": {},
   "outputs": [
    {
     "data": {
      "image/png": "[encoded data removed]",
      "text/plain": [
       "<Figure size 432x288 with 1 Axes>"
      ]
     },
     "metadata": {
      "needs_background": "light"
     },
     "output_type": "display_data"
    },
    {
     "name": "stdout",
     "output_type": "stream",
     "text": [
      "p-value   = 0.341\n"
     ]
    }
   ],
   "source": [
    "# split the Milky Way sample randomly into two sets\n",
    "half = np.random.rand(N_MWG) < 0.5\n",
    "sample_A = absolute_MWG[half]\n",
    "sample_B = absolute_MWG[~half]\n",
    "\n",
    "# show the histograms\n",
    "plt.figure()\n",
    "plt.hist(sample_A, bins=10, alpha=0.5)\n",
    "plt.hist(sample_B, bins=10, alpha=0.5)\n",
    "plt.show()\n",
    "\n",
    "\n",
    "equal_variances = True\n",
    "statistic, pvalue = st.ttest_ind(sample_A, sample_B, equal_var=equal_variances)\n",
    "print(\"p-value   = {:.3g}\".format(pvalue))"
   ]
  },
  {
   "cell_type": "markdown",
   "metadata": {},
   "source": [
    "### 3.3. Distributions: Shapiro-Wilk test for normality\n",
    "\n",
    "Whether we want to\n",
    "- verify a model's usage (or derivation) of the normal distribution\n",
    "- justify the normal distribution assumption in subsequent analysis (e.g. other hypothesis tests)\n",
    "we can test whether the data follows a normal distribution or not.\n",
    "\n",
    "The Shapiro-Wilk test can be used in the MW data:"
   ]
  },
  {
   "cell_type": "code",
   "execution_count": 7,
   "metadata": {},
   "outputs": [
    {
     "name": "stdout",
     "output_type": "stream",
     "text": [
      "p-value   = 0.675\n"
     ]
    }
   ],
   "source": [
    "statistic, pvalue = st.shapiro(absolute_MWG)\n",
    "print(\"p-value   = {:.3g}\".format(pvalue))"
   ]
  },
  {
   "cell_type": "markdown",
   "metadata": {},
   "source": [
    "### 3.4. Distributions: Kolmogorov-Smirnov test\n",
    "\n",
    "What if the distribution we want to test is not analytical or there is no statistical test designed for it? In this case, we need a **non-parametric** test. The Kolmogorov-Smirnov (K-S) test is commonly used for such cases and it is based on the idea that if the distributions are significantly different, then their CDFs will deviate and the maximum distance between them can be used to quantify the disagreement:"
   ]
  },
  {
   "cell_type": "code",
   "execution_count": 8,
   "metadata": {},
   "outputs": [
    {
     "data": {
      "image/png": "[encoded data removed]",
      "text/plain": [
       "<Figure size 432x288 with 1 Axes>"
      ]
     },
     "metadata": {
      "needs_background": "light"
     },
     "output_type": "display_data"
    }
   ],
   "source": [
    "sample = absolute_MWG\n",
    "x_sample = np.sort(sample)\n",
    "y_sample = np.arange(0, len(sample)) / (len(sample) - 1.0)\n",
    "y_model = st.norm.cdf(x_sample, loc=model_mean, scale=model_std)\n",
    "\n",
    "index = np.argmax((y_sample - y_model) ** 2.0)\n",
    "\n",
    "plt.figure()\n",
    "plt.step(x_sample, y_sample, \"k-\", label=\"Empirical CDF\")\n",
    "plt.plot(x_sample, y_model, \"g-\", label=\"Model CDF\")\n",
    "plt.plot([x_sample[index]] * 2, [y_sample[index], y_model[index]], \"r\", lw=3, label=\"K-S statistic\")\n",
    "plt.legend()\n",
    "plt.show()"
   ]
  },
  {
   "cell_type": "code",
   "execution_count": 9,
   "metadata": {},
   "outputs": [
    {
     "name": "stdout",
     "output_type": "stream",
     "text": [
      "Statistic = 0.1\n",
      "p-value   = 0.368\n"
     ]
    }
   ],
   "source": [
    "sample = absolute_MWG\n",
    "model_distribution = st.norm(loc=model_mean, scale=model_std)\n",
    "statistic, pvalue = st.kstest(sample, model_distribution.cdf)\n",
    "print(\"Statistic = {:.3g}\".format(statistic))\n",
    "print(\"p-value   = {:.3g}\".format(pvalue))"
   ]
  },
  {
   "cell_type": "markdown",
   "metadata": {},
   "source": [
    "### 3.4. Testing for correlations\n",
    "\n",
    "TODO: intro\n",
    "\n",
    "TODO: add comparison... pros and cons..."
   ]
  },
  {
   "cell_type": "code",
   "execution_count": 10,
   "metadata": {},
   "outputs": [
    {
     "data": {
      "image/png": "[encoded data removed]",
      "text/plain": [
       "<Figure size 432x288 with 1 Axes>"
      ]
     },
     "metadata": {
      "needs_background": "light"
     },
     "output_type": "display_data"
    },
    {
     "name": "stdout",
     "output_type": "stream",
     "text": [
      "PEARSON  : R =    0.723  |  p-value =   0.0181\n",
      "SPEARMAN : R =    0.745  |  p-value =   0.0133\n",
      "KENDALL  : R =      0.6  |  p-value =   0.0167\n"
     ]
    }
   ],
   "source": [
    "N = 10\n",
    "x = np.random.uniform(0, 10, size=N)\n",
    "a = 1\n",
    "b = 0\n",
    "error = 3\n",
    "y = a * x + b + np.random.normal(loc=0, scale=error, size=N)\n",
    "plt.figure()\n",
    "plt.plot(x, y, \"ko\")\n",
    "plt.show()\n",
    "\n",
    "r, pvalue = st.pearsonr(x, y)\n",
    "print(\"PEARSON  : R = {:8.3g}  |  p-value = {:8.3g}\".format(r, pvalue))\n",
    "\n",
    "r, pvalue = st.spearmanr(x, y)\n",
    "print(\"SPEARMAN : R = {:8.3g}  |  p-value = {:8.3g}\".format(r, pvalue))\n",
    "\n",
    "r, pvalue = st.kendalltau(x, y)\n",
    "print(\"KENDALL  : R = {:8.3g}  |  p-value = {:8.3g}\".format(r, pvalue))"
   ]
  },
  {
   "cell_type": "markdown",
   "metadata": {},
   "source": [
    "### References\n",
    "\n",
    "[1] Nantais et al. (2006). Nearby Spiral Globular Cluster Systems. I. Luminosity Functions. The Astronomical Journal, 131."
   ]
  }
 ],
 "metadata": {
  "kernelspec": {
   "display_name": "Python 3",
   "language": "python",
   "name": "python3"
  },
  "language_info": {
   "codemirror_mode": {
    "name": "ipython",
    "version": 3
   },
   "file_extension": ".py",
   "mimetype": "text/x-python",
   "name": "python",
   "nbconvert_exporter": "python",
   "pygments_lexer": "ipython3",
   "version": "3.6.7"
  }
 },
 "nbformat": 4,
 "nbformat_minor": 2
}
