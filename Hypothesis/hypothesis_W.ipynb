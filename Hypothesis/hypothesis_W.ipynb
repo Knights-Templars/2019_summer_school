{
 "cells": [
  {
   "cell_type": "markdown",
   "metadata": {},
   "source": [
    "Let's load the packages and data that are necessary for the exercises."
   ]
  },
  {
   "cell_type": "code",
   "execution_count": null,
   "metadata": {
    "scrolled": true
   },
   "outputs": [],
   "source": [
    "import numpy as np\n",
    "import scipy.stats as st\n",
    "import matplotlib.pyplot as plt\n",
    "\"\"\"\n",
    "# Nearby Spiral Globular Cluster Systems I: Luminosity Functions;\n",
    "# Nantais J.B., Huchra J.P., Barmby P., Olsen K.A.G., Jarrett T.H.,\n",
    "# Astronomical Journal 131, 1416-1425 (2006)\n",
    "\"\"\"\n",
    "\n",
    "absolute_MWG = np.loadtxt(\"GC_MWG_absolute.dat\")\n",
    "apparent_M31 = np.loadtxt(\"GC_M31_apparent.dat\")\n",
    "\n",
    "plt.figure()\n",
    "plt.subplot(121)\n",
    "plt.title(\"Milky Way\")\n",
    "plt.hist(absolute_MWG, bins=20)\n",
    "plt.xlabel(\"K-band absolute magnitude\")\n",
    "\n",
    "plt.subplot(122)\n",
    "plt.title(\"M31\")\n",
    "plt.hist(apparent_M31, bins=20)\n",
    "plt.xlabel(\"K-band apparent magnitude\")\n",
    "plt.show()"
   ]
  },
  {
   "cell_type": "markdown",
   "metadata": {},
   "source": [
    "## Exercise 1: distribution of M31 globular clusters\n",
    "#### (a) Is the M31 data normally distributed? Use two different parametric tests from `scipy`."
   ]
  },
  {
   "cell_type": "code",
   "execution_count": null,
   "metadata": {},
   "outputs": [],
   "source": []
  },
  {
   "cell_type": "markdown",
   "metadata": {},
   "source": [
    "#### (b) Test the normality of the M31 data using the Kolmogorov-Smirnov test and confirm that the produced $p$-value is quite large. What is the source of this going on in the case? Are there non-parametric tests that can bypass this complication?"
   ]
  },
  {
   "cell_type": "code",
   "execution_count": null,
   "metadata": {},
   "outputs": [],
   "source": []
  },
  {
   "cell_type": "markdown",
   "metadata": {},
   "source": [
    "#### (c) Whare are the variances of M31 and Milky Way data? Are the significantly different? Use at least two different methods."
   ]
  },
  {
   "cell_type": "markdown",
   "metadata": {},
   "source": [
    "## Exercise 2: the distance of M31\n",
    "#### (a) Assuming that the Milky Way and M31 globular clusters are complete and described by the same luminosity function, what is the distance of M31?\n",
    "\n",
    "Remember that the distance modulus $\\mu$, the absolute $M$ and apparent magnitude $m$ are connected through the formula:\n",
    "\n",
    "$$ \\mu = m - M $$\n",
    "\n",
    "The metric distance $d$ (in Mpc) can be computed from the distance modulus using\n",
    "\n",
    "$$ d = 10^{\\mu / 5 - 5} $$"
   ]
  },
  {
   "cell_type": "code",
   "execution_count": null,
   "metadata": {},
   "outputs": [],
   "source": [
    "def to_metric(distance_modulus):\n",
    "    \"\"\"Convert a distance modulus to metric distance in Mpc.\"\"\"\n",
    "    return 10.0 ** (distance_modulus / 5.0 - 5)\n",
    "\n",
    "# add code here"
   ]
  },
  {
   "cell_type": "markdown",
   "metadata": {},
   "source": [
    "#### (b) what is the uncertainty of that estimate?"
   ]
  },
  {
   "cell_type": "code",
   "execution_count": null,
   "metadata": {},
   "outputs": [],
   "source": []
  },
  {
   "cell_type": "markdown",
   "metadata": {},
   "source": [
    "#### (c) Is the computed distance consistent with the Cepheid estimate for the distance modulus: $24.44 \\pm 0.10\\ \\rm mag$?"
   ]
  },
  {
   "cell_type": "code",
   "execution_count": null,
   "metadata": {},
   "outputs": [],
   "source": [
    "cep_modulus = 24.44\n",
    "cep_modulus_error = 0.1\n",
    "\n",
    "# add code here"
   ]
  },
  {
   "cell_type": "markdown",
   "metadata": {},
   "source": [
    "#### (d) From the distance estimate, calculate the absolute magnitudes of M31 GCs. Check if they follow the same distribution as the absute magnitude of Milky Way GCs. Use at least two methods of two-sample tests."
   ]
  },
  {
   "cell_type": "code",
   "execution_count": null,
   "metadata": {},
   "outputs": [],
   "source": []
  },
  {
   "cell_type": "markdown",
   "metadata": {},
   "source": [
    "## Extra exercise 1: Normal approximation of Poisson distribution\n",
    "\n",
    "It is known that the normal distribution is a good approximation of Poisson distribution when the parameter $\\lambda$ is large.\n",
    "\n",
    "#### (a) Can you quantify this claim using sampling and hypothesis testing? Choose a sample size $N$ and some $\\lambda$ values.\n",
    "\n",
    "#### (b) Do the results depend on the sample size?\n",
    "\n",
    "#### (c) Do the results depend on the method? Use two tests at least."
   ]
  },
  {
   "cell_type": "code",
   "execution_count": null,
   "metadata": {},
   "outputs": [],
   "source": []
  }
 ],
 "metadata": {
  "kernelspec": {
   "display_name": "Python 3",
   "language": "python",
   "name": "python3"
  },
  "language_info": {
   "codemirror_mode": {
    "name": "ipython",
    "version": 3
   },
   "file_extension": ".py",
   "mimetype": "text/x-python",
   "name": "python",
   "nbconvert_exporter": "python",
   "pygments_lexer": "ipython3",
   "version": "3.6.7"
  }
 },
 "nbformat": 4,
 "nbformat_minor": 2
}
