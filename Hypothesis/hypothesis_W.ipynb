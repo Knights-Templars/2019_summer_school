{
 "cells": [
  {
   "cell_type": "markdown",
   "metadata": {},
   "source": [
    "Let's load the packages and data that are necessary for the exercises."
   ]
  },
  {
   "cell_type": "code",
   "execution_count": 2,
   "metadata": {
    "scrolled": true
   },
   "outputs": [
    {
     "data": {
      "text/plain": [
       "<Figure size 640x480 with 2 Axes>"
      ]
     },
     "metadata": {},
     "output_type": "display_data"
    }
   ],
   "source": [
    "import numpy as np\n",
    "import scipy.stats as st\n",
    "import matplotlib.pyplot as plt\n",
    "\"\"\"\n",
    "# Nearby Spiral Globular Cluster Systems I: Luminosity Functions;\n",
    "# Nantais J.B., Huchra J.P., Barmby P., Olsen K.A.G., Jarrett T.H.,\n",
    "# Astronomical Journal 131, 1416-1425 (2006)\n",
    "\"\"\"\n",
    "\n",
    "absolute_MWG = np.loadtxt(\"GC_MWG_absolute.dat\")\n",
    "apparent_M31 = np.loadtxt(\"GC_M31_apparent.dat\")\n",
    "\n",
    "plt.figure()\n",
    "plt.subplot(121)\n",
    "plt.title(\"Milky Way\")\n",
    "plt.hist(absolute_MWG, bins=20)\n",
    "plt.xlabel(\"K-band absolute magnitude\")\n",
    "\n",
    "plt.subplot(122)\n",
    "plt.title(\"M31\")\n",
    "plt.hist(apparent_M31, bins=20)\n",
    "plt.xlabel(\"K-band apparent magnitude\")\n",
    "plt.show()"
   ]
  },
  {
   "cell_type": "markdown",
   "metadata": {},
   "source": [
    "## Exercise 1: looking at M31 globular clusters\n",
    "#### (a) Is the M31 data normally distributed? Use two different parametric tests from `scipy`."
   ]
  },
  {
   "cell_type": "code",
   "execution_count": 5,
   "metadata": {},
   "outputs": [
    {
     "name": "stdout",
     "output_type": "stream",
     "text": [
      "p-value: 0.00102\n"
     ]
    }
   ],
   "source": [
    "_, pvalue = st.shapiro(apparent_M31)\n",
    "print(\"p-value: {:.3g}\".format(pvalue))"
   ]
  },
  {
   "cell_type": "code",
   "execution_count": 6,
   "metadata": {},
   "outputs": [
    {
     "name": "stdout",
     "output_type": "stream",
     "text": [
      "p-value: 0.00414\n"
     ]
    }
   ],
   "source": [
    "_, pvalue = st.normaltest(apparent_M31)\n",
    "print(\"p-value: {:.3g}\".format(pvalue))"
   ]
  },
  {
   "cell_type": "markdown",
   "metadata": {},
   "source": [
    "#### (b) Test the normality of the M31 data using the Kolmogorov-Smirnov test and confirm that the produced $p$-value is quite large. What is the source of this going on in the case? Are there non-parametric tests that can bypass this complication?"
   ]
  },
  {
   "cell_type": "code",
   "execution_count": 9,
   "metadata": {},
   "outputs": [
    {
     "name": "stdout",
     "output_type": "stream",
     "text": [
      "p-value: 0.108\n"
     ]
    }
   ],
   "source": [
    "# perform the K-S test using the Gaussian with mean and scale equal to the sample mean and standard deviation\n",
    "mean = np.mean(apparent_M31)\n",
    "std = np.std(apparent_M31)\n",
    "normal_approximation = st.norm(loc=mean, scale=std)\n",
    "_, pvalue = st.kstest(apparent_M31, normal_approximation.cdf)\n",
    "print(\"p-value: {:.3g}\".format(pvalue))"
   ]
  },
  {
   "cell_type": "code",
   "execution_count": 12,
   "metadata": {},
   "outputs": [
    {
     "data": {
      "image/png": "[encoded data removed]",
      "text/plain": [
       "<Figure size 432x288 with 1 Axes>"
      ]
     },
     "metadata": {
      "needs_background": "light"
     },
     "output_type": "display_data"
    }
   ],
   "source": [
    "# Why does the K-S test gives such a high p-value? Let's look at the CDF.\n",
    "plt.figure()\n",
    "x_empirical = np.sort(apparent_M31)\n",
    "y_empirical = np.arange(len(apparent_M31)) / (len(apparent_M31) - 1.0)\n",
    "\n",
    "plt.step(x_empirical, y_empirical, \"k-\")\n",
    "plt.plot(x_empirical, normal_approximation.cdf(x_empirical), \"r--\", linewidth=2)\n",
    "plt.show()"
   ]
  },
  {
   "cell_type": "code",
   "execution_count": 14,
   "metadata": {},
   "outputs": [
    {
     "data": {
      "image/png": "[encoded data removed]",
      "text/plain": [
       "<Figure size 432x288 with 1 Axes>"
      ]
     },
     "metadata": {
      "needs_background": "light"
     },
     "output_type": "display_data"
    }
   ],
   "source": [
    "# Let's look at the empirical PDF and the normal approximation superposed...\n",
    "plt.figure()\n",
    "plt.hist(apparent_M31, bins=20, density=True)\n",
    "plt.plot(x_empirical, normal_approximation.pdf(x_empirical))\n",
    "plt.show()"
   ]
  },
  {
   "cell_type": "code",
   "execution_count": 23,
   "metadata": {},
   "outputs": [
    {
     "name": "stdout",
     "output_type": "stream",
     "text": [
      "Statistic: 1.794\n",
      "At 15.0 level, the critical value is 0.57: FAIL\n",
      "At 10.0 level, the critical value is 0.65: FAIL\n",
      "At  5.0 level, the critical value is 0.78: FAIL\n",
      "At  2.5 level, the critical value is 0.91: FAIL\n",
      "At  1.0 level, the critical value is  1.1: FAIL\n"
     ]
    }
   ],
   "source": [
    "# The difference of the empirical and approximate distribution is significant in the tails\n",
    "# K-S is not very sensitive at the tails... Let's use the Anderson-Darling test\n",
    "\n",
    "statistic, critical_values, significance_levels = st.anderson(apparent_M31)\n",
    "print(\"Statistic: {:.4g}\".format(statistic))\n",
    "for critical_value, significance_level in zip(critical_values, significance_levels):\n",
    "    outcome = \"OK\" if statistic < critical_value else \"FAIL\"\n",
    "    print(\"At {:4.1f} level, the critical value is {:4.2g}: {}\".format(significance_level, critical_value, outcome))"
   ]
  },
  {
   "cell_type": "markdown",
   "metadata": {},
   "source": [
    "#### (b) Whare are the variances of M31 and Milky Way data? Are the significantly different? Use at least two different methods."
   ]
  },
  {
   "cell_type": "code",
   "execution_count": 33,
   "metadata": {},
   "outputs": [
    {
     "name": "stdout",
     "output_type": "stream",
     "text": [
      "MWG variance = 3.2127\n",
      "M31 variance = 1.4235\n",
      "\n",
      "Test                     p-value\n",
      "--------------------------------\n",
      "Levene test              3.8e-06\n",
      "Bertlett's test          3.5e-07\n",
      "Fligner-Killeen test     1.4e-05\n"
     ]
    }
   ],
   "source": [
    "print(\"MWG variance = {:.4f}\".format(np.var(absolute_MWG)))\n",
    "print(\"M31 variance = {:.4f}\".format(np.var(apparent_M31)))\n",
    "\n",
    "print()\n",
    "print(\"Test                     p-value\")\n",
    "print(\"--------------------------------\")\n",
    "_, pvalue = st.levene(absolute_MWG, apparent_M31)\n",
    "print(\"Levene test              {:.2g}\".format(pvalue))\n",
    "\n",
    "_, pvalue = st.bartlett(absolute_MWG, apparent_M31)\n",
    "print(\"Bertlett's test          {:.2g}\".format(pvalue))\n",
    "\n",
    "_, pvalue = st.fligner(absolute_MWG, apparent_M31)\n",
    "print(\"Fligner-Killeen test     {:.2g}\".format(pvalue))"
   ]
  },
  {
   "cell_type": "markdown",
   "metadata": {},
   "source": [
    "## Exercise 2: the distance of M31\n",
    "#### (a) Assuming that the Milky Way and M31 globular clusters are complete and described by the same luminosity function, what is the distance of M31?\n",
    "\n",
    "Remember that the distance modulus $\\mu$, the absolute $M$ and apparent magnitude $m$ are connected through the formula:\n",
    "\n",
    "$$ \\mu = m - M $$\n",
    "\n",
    "The metric distance $d$ (in Mpc) can be computed from the distance modulus using\n",
    "\n",
    "$$ d = 10^{\\mu / 5 - 5} $$"
   ]
  },
  {
   "cell_type": "code",
   "execution_count": 36,
   "metadata": {},
   "outputs": [
    {
     "name": "stdout",
     "output_type": "stream",
     "text": [
      "Milky way mean absolute magnitude: -10.32 +/- 0.20\n",
      "Andromeda mean apparent magnitude: 14.46 +/- 0.06\n",
      "Distance modulus = 24.781\n",
      "Distance = 0.904 Mpc\n"
     ]
    }
   ],
   "source": [
    "mwg_mean, mwg_sem = np.mean(absolute_MWG), st.sem(absolute_MWG)\n",
    "m31_mean, m31_sem = np.mean(apparent_M31), st.sem(apparent_M31)\n",
    "print(\"Milky way mean absolute magnitude: {:.2f} +/- {:.2f}\".format(mwg_mean, mwg_sem))\n",
    "print(\"Andromeda mean apparent magnitude: {:.2f} +/- {:.2f}\".format(m31_mean, m31_sem))\n",
    "\n",
    "def to_metric(distance_modulus):\n",
    "    \"\"\"Convert a distance modulus to metric distance in Mpc.\"\"\"\n",
    "    return 10.0 ** (distance_modulus / 5.0 - 5)\n",
    "\n",
    "modulus = m31_mean - mwg_mean\n",
    "distance = to_metric(modulus)\n",
    "print(\"Distance modulus = {:.3f}\".format(modulus))\n",
    "print(\"Distance = {:.3g} Mpc\".format(distance))"
   ]
  },
  {
   "cell_type": "markdown",
   "metadata": {},
   "source": [
    "#### (b) what is the uncertainty of that estimate?"
   ]
  },
  {
   "cell_type": "code",
   "execution_count": 47,
   "metadata": {},
   "outputs": [
    {
     "name": "stdout",
     "output_type": "stream",
     "text": [
      "Distance moudlus = 24.781 +/- 0.210\n",
      "Distance = 0.904 Mpc   |    68% CI = (0.821, 0.996) Mpc\n"
     ]
    }
   ],
   "source": [
    "# Error propagation theory: the standard deviation is the quadratic sum of the standard errors of the mean values.\n",
    "modulus_error = (mwg_sem ** 2.0 + m31_sem ** 2.0) ** 0.5\n",
    "print(\"Distance moudlus = {:.3f} +/- {:.3f}\".format(modulus, modulus_error))\n",
    "\n",
    "# converting to metric distance is not Gaussion anymore, therefore the +/- must be subtituted with a CI\n",
    "distance = to_metric(modulus)\n",
    "lower68 = to_metric(modulus - modulus_error)\n",
    "upper68 = to_metric(modulus + modulus_error)\n",
    "print(\"Distance = {:.3f} Mpc   |    68% CI = ({:.3f}, {:.3f}) Mpc\".\n",
    "      format(distance, lower68, upper68))"
   ]
  },
  {
   "cell_type": "markdown",
   "metadata": {},
   "source": [
    "#### (c) Is the computed distance consistent with the Cepheid estimate for the distance modulus: $24.44 \\pm 0.10\\ \\rm mag$?"
   ]
  },
  {
   "cell_type": "code",
   "execution_count": 67,
   "metadata": {},
   "outputs": [
    {
     "name": "stdout",
     "output_type": "stream",
     "text": [
      "Cepheid distance modulus = 24.44 +/- 0.10\n",
      "Cepheid distance = 0.773 Mpc    |     68% CI: (0.738, 0.809) Mpc\n"
     ]
    },
    {
     "data": {
      "image/png": "[encoded data removed]",
      "text/plain": [
       "<Figure size 432x288 with 1 Axes>"
      ]
     },
     "metadata": {
      "needs_background": "light"
     },
     "output_type": "display_data"
    },
    {
     "name": "stdout",
     "output_type": "stream",
     "text": [
      "Z score: 1.47\n",
      "p-value = 0.142\n",
      "The two estimates are consistent.\n"
     ]
    }
   ],
   "source": [
    "cep_modulus = 24.44\n",
    "cep_modulus_error = 0.1\n",
    "\n",
    "print(\"Cepheid distance modulus = {:.2f} +/- {:.2f}\".format(cep_modulus, cep_modulus_error))\n",
    "cep_distance = to_metric(cep_modulus)\n",
    "cep_lower68 = to_metric(cep_modulus - cep_modulus_error)\n",
    "cep_upper68 = to_metric(cep_modulus + cep_modulus_error)\n",
    "print(\"Cepheid distance = {:.3f} Mpc    |     68% CI: ({:.3f}, {:.3f}) Mpc\".\n",
    "      format(cep_distance, cep_lower68, cep_upper68))\n",
    "\n",
    "# plot the two estimate's probability density\n",
    "x = np.linspace(24, 25.5, 100)\n",
    "y_result = st.norm.pdf(x, loc=modulus, scale=modulus_error)\n",
    "y_theory = st.norm.pdf(x, loc=cep_modulus, scale=cep_modulus_error)\n",
    "plt.figure()\n",
    "plt.plot(x, y_result, label=\"Our result\")\n",
    "plt.plot(x, y_theory, label=\"Literature\")\n",
    "plt.legend(loc=\"upper right\")\n",
    "plt.xlabel(\"Distance modulus (mag)\")\n",
    "plt.ylabel(\"Probability density\")\n",
    "plt.show()\n",
    "\n",
    "# HYPOTHESIS TESTING\n",
    "\n",
    "# we may consider that the two estimates are consistent by testing whether their difference is consistent with zero\n",
    "\n",
    "# we decide a significance level 5%\n",
    "a = 0.05\n",
    "\n",
    "# take the difference and its error (using propagation theory)\n",
    "difference = (modulus - cep_modulus)\n",
    "difference_error = (modulus_error ** 2.0 + cep_modulus_error ** 2.0) ** 0.5\n",
    "\n",
    "# assuming normal distribution for the sample mean and the Cepheid estimate...\n",
    "# their difference will also be normally distributed and we can use the Z-score to get a p-value\n",
    "Z_score = difference / difference_error\n",
    "print(\"Z score: {:.3g}\".format(Z_score))\n",
    "p_value = 2 * st.norm.cdf(-abs(Z_score))\n",
    "print(\"p-value = {:.3f}\".format(p_value))\n",
    "if p_value < a:\n",
    "    print(\"The two estimates are not consistent.\")\n",
    "else:\n",
    "    print(\"The two estimates are consistent.\")"
   ]
  },
  {
   "cell_type": "markdown",
   "metadata": {},
   "source": [
    "#### (d) From the distance estimate, calculate the absolute magnitudes of M31 GCs. Check if they follow the same distribution as the absute magnitude of Milky Way GCs. Use at least two methods of two-sample tests."
   ]
  },
  {
   "cell_type": "code",
   "execution_count": 73,
   "metadata": {},
   "outputs": [
    {
     "data": {
      "image/png": "[encoded data removed]",
      "text/plain": [
       "<Figure size 432x288 with 1 Axes>"
      ]
     },
     "metadata": {
      "needs_background": "light"
     },
     "output_type": "display_data"
    },
    {
     "name": "stdout",
     "output_type": "stream",
     "text": [
      "K-S 2-sample test\n",
      "  Statistic:  0.135\n",
      "  p-value  :  0.163\n",
      "Wilcoxon rank-sum\n",
      "  Statistic:  0.625\n",
      "  p-value  :  0.532\n"
     ]
    }
   ],
   "source": [
    "absolute_M31 = apparent_M31 - modulus\n",
    "\n",
    "# Looking at the distributions\n",
    "x_min = min(min(absolute_M31), min(absolute_MWG))\n",
    "x_max = max(max(absolute_M31), max(absolute_MWG))\n",
    "bins = np.linspace(x_min, x_max, 20)\n",
    "plt.hist(absolute_M31, bins=bins, density=True, histtype=\"step\")\n",
    "plt.hist(absolute_MWG, bins=bins, density=True, histtype=\"step\")\n",
    "plt.show()\n",
    "\n",
    "print(\"K-S 2-sample test\")\n",
    "statistic, pvalue = st.ks_2samp(absolute_M31, absolute_MWG)\n",
    "print(\"  Statistic:  {:.3g}\".format(statistic))\n",
    "print(\"  p-value  :  {:.3g}\".format(pvalue))\n",
    "\n",
    "print(\"Wilcoxon rank-sum\")\n",
    "statistic, pvalue = st.ranksums(absolute_M31, absolute_MWG)\n",
    "print(\"  Statistic:  {:.3g}\".format(statistic))\n",
    "print(\"  p-value  :  {:.3g}\".format(pvalue))"
   ]
  },
  {
   "cell_type": "markdown",
   "metadata": {},
   "source": [
    "## Extra exercise 1: Normal approximation of Poisson distribution\n",
    "\n",
    "It is known that the normal distribution is a good approximation of Poisson distribution when the parameter $\\lambda$ is large.\n",
    "\n",
    "#### (a) Can you quantify this claim using sampling and hypothesis testing? Choose a sample size $N$ and some $\\lambda$ values.\n",
    "\n",
    "#### (b) Do the results depend on the sample size?\n",
    "\n",
    "#### (c) Do the results depend on the method? Use two tests at least."
   ]
  },
  {
   "cell_type": "code",
   "execution_count": 43,
   "metadata": {},
   "outputs": [
    {
     "name": "stdout",
     "output_type": "stream",
     "text": [
      "For l=0.5\n",
      "  SW: p-value = 5.9e-39\n",
      "  KS: p-value = 3.95e-122\n",
      "For l=3\n",
      "  SW: p-value = 3.25e-18\n",
      "  KS: p-value = 1.35e-18\n",
      "For l=10\n",
      "  SW: p-value = 2.7e-10\n",
      "  KS: p-value = 2.55e-08\n",
      "For l=30\n",
      "  SW: p-value = 5.5e-06\n",
      "  KS: p-value = 1.58e-05\n"
     ]
    },
    {
     "data": {
      "image/png": "[encoded data removed]",
      "text/plain": [
       "<Figure size 432x288 with 1 Axes>"
      ]
     },
     "metadata": {
      "needs_background": "light"
     },
     "output_type": "display_data"
    }
   ],
   "source": [
    "plt.figure()\n",
    "sample_size = 1000\n",
    "poisson_means_to_test = [0.5, 3, 10, 30]\n",
    "for poisson_mean in poisson_means_to_test:\n",
    "    sample = st.poisson.rvs(poisson_mean, size=sample_size)\n",
    "    statistic, pvalue = st.shapiro(sample)\n",
    "    print(\"For l={:.3g}\".format(poisson_mean))\n",
    "    print(\"  SW: p-value = {:.3g}\".format(pvalue))\n",
    "    \n",
    "    norm_cdf = st.norm(loc=poisson_mean, scale=poisson_mean ** 0.5).cdf\n",
    "    statistic, pvalue = st.kstest(sample, norm_cdf)\n",
    "    print(\"  KS: p-value = {:.3g}\".format(pvalue))\n",
    "    \n",
    "    nbins = min(15, max(sample) - min(sample) + 1)\n",
    "    plt.hist(sample, bins=nbins, label=r\"$\\lambda = {:.2g}$\".format(poisson_mean), histtype=\"step\")\n",
    "plt.legend()\n",
    "plt.show()"
   ]
  }
 ],
 "metadata": {
  "kernelspec": {
   "display_name": "Python 3",
   "language": "python",
   "name": "python3"
  },
  "language_info": {
   "codemirror_mode": {
    "name": "ipython",
    "version": 3
   },
   "file_extension": ".py",
   "mimetype": "text/x-python",
   "name": "python",
   "nbconvert_exporter": "python",
   "pygments_lexer": "ipython3",
   "version": "3.6.7"
  }
 },
 "nbformat": 4,
 "nbformat_minor": 2
}
