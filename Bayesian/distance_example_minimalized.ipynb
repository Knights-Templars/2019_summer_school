{
 "cells": [
  {
   "cell_type": "markdown",
   "metadata": {},
   "source": [
    "# Markov Chain Monte Carlo\n",
    "\n",
    "## Distance example\n",
    "\n",
    "Say you have a distribution of sources with a strong prior and you observe them with some uncertainty. One example of this is the distribution of distances to stars. Assuming a constant density of stars, the underlying distribution should scale with $r^2$. This is our prior:\n",
    "\n",
    "$$ P(r) \\sim r^2 $$\n",
    "\n",
    "This must be normalized. Obviously we cannot observe stars at an infinite distance, and doing so would cause the prior to diverge. We must impose, somewhat artificially, a maximum distance, $r_max$, to calculate the normalization constant. Our prior becomes:\n",
    "\n",
    "$$ P(r) = 3 \\frac{r^2}{r_{\\rm max}^3} $$\n",
    "\n",
    "### First, let's generate a sample from an exponential and add Gaussian noise"
   ]
  },
  {
   "cell_type": "code",
   "execution_count": 1,
   "metadata": {},
   "outputs": [
    {
     "data": {
      "text/plain": [
       "<Figure size 640x480 with 1 Axes>"
      ]
     },
     "metadata": {},
     "output_type": "display_data"
    }
   ],
   "source": [
    "import numpy as np\n",
    "import matplotlib.pyplot as plt\n",
    "\n",
    "# Draw random distances using inverse sampling\n",
    "N_stars=1000\n",
    "dist_max = 1.0 # in kpc\n",
    "dist = (np.random.uniform(size=N_stars))**(1.0/3.0) * dist_max\n",
    "\n",
    "# Plot sample\n",
    "bins = np.linspace(0.0, 1.0, 30)\n",
    "plt.hist(dist, bins=bins, density=True, label='True Distance')\n",
    "\n",
    "# Plot analytic\n",
    "plt.plot(bins, 3.0 * bins**2 * dist_max**-3, linewidth=2.0, label='Analytic')\n",
    "\n",
    "# Now add uncertainties of 100 pc\n",
    "dist_obs = dist + np.random.normal(size=N_stars, scale=0.1)\n",
    "# Array of errors\n",
    "dist_err = 0.1 * np.ones(len(dist_obs))\n",
    "\n",
    "\n",
    "bins = np.linspace(0.0, 1.3, 30)\n",
    "plt.hist(dist_obs, bins=bins, density=True, histtype='step', \n",
    "         linewidth=2.0, color='k', label='Observed Distance')\n",
    "plt.xlabel(\"Distance\")\n",
    "plt.ylabel(\"Probability Density\")\n",
    "plt.legend(loc=\"upper left\")\n",
    "plt.show()"
   ]
  },
  {
   "cell_type": "markdown",
   "metadata": {},
   "source": [
    "### Recovering $\\alpha$ from observations\n",
    "Let's imagine that we do not know the exponential in the power law, $\\alpha$, and we want to solve for it. The correct answer is 2. Let's see if we can recover that.\n",
    "\n",
    "We start with our probability notation. We want to determine $P(\\alpha | \\{ r \\})$. We use our Bayesian formalism to split this into a prior and a likelihood:\n",
    "\n",
    "$$ P(\\alpha | \\{ r \\}) = \\frac{1}{\\mathcal{Z}} P(\\{ r \\} | \\alpha) P(\\alpha), $$\n",
    "\n",
    "where $\\mathcal{Z}$ is a normalization constant, which we have previously called the \"evidence.\" \n",
    "\n",
    "Prior: $P(\\alpha)$  \n",
    "Likelihood: $P(\\{ r \\} | \\alpha)$\n",
    "\n",
    "#### What should the prior look like?\n",
    "\n",
    "In this case the prior will have a minimal effect, but we would like to constrain it to positive values though. Our prior will be:\n",
    "$$ P(\\alpha) = \\cases{0 : \\alpha <= 0 \\\\ 1 : \\alpha > 0} $$\n",
    "\n",
    "NOTE: This prior is technically unnormalized and is therefore called an \"improper prior.\" We could fix this by additionally setting a maximum value for $\\alpha$ and setting the prior to $1/\\alpha_{\\rm max}$ for $0 < \\alpha < \\alpha_{\\rm max}$. For simplicity, we will keep this prior unnormalized though.\n",
    "\n",
    "#### What about the likelihood?\n",
    "\n",
    "This is seemingly quite simple but can lead to much hand-wringing if you think about it too much. I will state it unproven here: the overal likelihood is the product of the likelihood of each data point, and the likelihood of each data point is the *normalized* probability density function evaluated at each data point:\n",
    "\n",
    "$$ P(\\{ r \\} | \\alpha) = \\prod P(r | \\alpha) $$\n",
    "where\n",
    "$$ P(r | \\alpha) $$ is the likelihood of an observation.\n",
    "\n",
    "##### Likelihood of an observed value\n",
    "\n",
    "The likelihood of a true underlying distance, $r_{\\rm true}$ is\n",
    "\n",
    "$$ P(r_{\\rm true} | \\alpha) = (\\alpha+1) \\frac{r_{\\rm true}^{\\alpha}}{r_{\\rm max}^{\\alpha + 1}} $$\n",
    "\n",
    "Let's define the difference between the observed distance ($r_{\\rm obs}$) and the true, underlying distance ($r_{\\rm true}$). First, we take our likelihood for an individual observation and marginalize over the underlying distance, $r_{\\rm true}$:\n",
    "\n",
    "$$ P( r | \\alpha) = \\int_{-\\infty}^{\\infty}  P(r_{\\rm true}, r | \\alpha) dr_{\\rm true} $$\n",
    "$$ P( r | \\alpha) = \\int_{0}^{r_{\\rm max}}  P(r | r_{\\rm true}) P(r_{\\rm true} | \\alpha) dr_{\\rm true}$$\n",
    "\n",
    "$P(r | r_{\\rm true})$ is the Gaussian uncertainty on the observation. Remember that the power law is the distribution in $r_{\\rm true}$ not $r_{\\rm obs}$.\n",
    "\n",
    "> Notice that the code will take a substantially longer time to run - this is due to the addition of only one integral within the minimzation routine. If you are marginalizing over two or three parameters (simultaneously dealing with two or three observational uncertainties) the problem can quickly become intractable.\n",
    "\n",
    "\n",
    "#### Converting to the log of the posterior\n",
    "\n",
    "For numerical simplicity, we use the (natural) log of the posterior, and therefore the log of the prior and the likelihood:\n",
    "\n",
    "$$ \\log P(\\alpha | \\{ r \\}) = \\log P(\\alpha) + \\log P(\\{ r \\} | \\alpha) $$\n",
    "\n",
    "### Now, some code"
   ]
  },
  {
   "cell_type": "code",
   "execution_count": 2,
   "metadata": {},
   "outputs": [],
   "source": [
    "import scipy.stats as st\n",
    "\n",
    "def func_pdf(alpha, x_max, x):\n",
    "    P_x = (alpha + 1.0) * x ** alpha / x_max ** (alpha + 1.0)\n",
    "    \n",
    "    if type(x) is np.ndarray:\n",
    "        P_x[x > x_max] = 0.0 \n",
    "        P_x[x < 0.0] = 0.0\n",
    "    elif x > x_max:\n",
    "        return 0.0\n",
    "    elif x < 0.0:\n",
    "        return 0.0\n",
    "    else:\n",
    "        pass\n",
    "        \n",
    "    return P_x\n",
    "\n",
    "def func_integrand(x, alpha, x_max, x_obs, x_err):\n",
    "    return st.norm.pdf(x, loc=x_obs, scale=x_err) * func_pdf(alpha, x_max, x)\n",
    "\n",
    "def ln_prior(alpha):\n",
    "    return 0.0 if alpha >= 0.0 else -np.inf\n",
    "\n",
    "def ln_likelihood(alpha, x_max, x_obs, x_err):\n",
    "    \n",
    "    ln_likelihood = 0.0\n",
    "    for i in range(len(x_obs)):\n",
    "        # Limits are either the limits of the pdf or 5 sigma from the observed value\n",
    "        a = max(0.0, x_obs[i] - 5.0 * x_err[i])\n",
    "        b = min(x_max, x_obs[i] + 5.0 * x_err[i])\n",
    "        \n",
    "        val = quad(func_integrand, a, b, args=(alpha, x_max, x_obs[i], x_err[i]), epsrel=1.0e-4, epsabs=1.0e-4)\n",
    "        ln_likelihood += np.log(val[0])\n",
    "    \n",
    "    return ln_likelihood\n",
    "\n",
    "def ln_posterior(alpha, x_max, x_obs, x_err):\n",
    "    return ln_prior(alpha) + ln_likelihood(alpha, x_max, x_obs, x_err)\n",
    "\n",
    "def neg_ln_posterior(alpha, x_max, x_obs, x_err):\n",
    "    return -ln_posterior(alpha, x_max, x_obs, x_err)"
   ]
  },
  {
   "cell_type": "code",
   "execution_count": 3,
   "metadata": {},
   "outputs": [
    {
     "name": "stdout",
     "output_type": "stream",
     "text": [
      "187.75440944848674\n",
      "124.41299265710605\n",
      "72.3649380391705\n",
      "29.414115933762098\n",
      "-6.067911130168852\n",
      "-35.321626688616085\n",
      "-59.313368919683676\n",
      "-78.8102960109107\n",
      "-94.43138444362518\n",
      "-106.6830579808503\n",
      "-115.98476400863949\n",
      "-122.68767404680138\n",
      "-127.0886188196664\n",
      "-129.4406466865991\n",
      "-129.96114132729383\n",
      "-128.8381453815021\n",
      "-126.23534532608213\n",
      "-122.2960436176297\n",
      "-117.14635514427725\n",
      "-110.8978027434327\n",
      "-103.64944232872783\n",
      "-95.4896161996636\n",
      "-86.49740989550959\n",
      "-76.74387066965534\n",
      "-66.29303284645759\n",
      "-55.202785611402575\n",
      "-43.52561135262193\n",
      "-31.309217032405048\n",
      "-18.597076611902242\n",
      "-5.4288991216624\n"
     ]
    },
    {
     "data": {
      "text/plain": [
       "'start = time.time()\\nres = so.minimize(neg_ln_posterior, p0, args=(dist_max, dist_obs, dist_err))\\nend = time.time()\\n\\nif res.success:\\n    print(\"Expected result: 2.0\")\\n    print(\"Result:\", res.x)\\nelse:\\n    print(\"Optimization failed\")\\n    \\nprint(\"Elapsed time:\", end-start, \"seconds\")\\n\\nplt.axvline(res.x)\\n\\nplt.xlabel(r\"$\\x07lpha$\")\\nplt.ylabel(r\"$\\\\mathcal{L}$\")\\nplt.show()'"
      ]
     },
     "execution_count": 3,
     "metadata": {},
     "output_type": "execute_result"
    },
    {
     "data": {
      "image/png": "[encoded data removed]",
      "text/plain": [
       "<Figure size 432x288 with 1 Axes>"
      ]
     },
     "metadata": {
      "needs_background": "light"
     },
     "output_type": "display_data"
    }
   ],
   "source": [
    "from scipy.optimize import minimize\n",
    "from scipy.integrate import quad\n",
    "import time\n",
    "\n",
    "tmp_x = np.linspace(0.1, 4.0, 30)\n",
    "tmp_y = np.zeros(len(tmp_x))\n",
    "for i in range(len(tmp_x)):\n",
    "    tmp_y[i] = neg_ln_posterior(tmp_x[i], dist_max, dist_obs, dist_err)\n",
    "    print(tmp_y[i])\n",
    "plt.plot(tmp_x, tmp_y)\n",
    "\n",
    "# We will give it the wrong starting value\n",
    "p0 = 4.0\n",
    "dist_max = 1.0\n",
    "\n",
    "print(\"Minimizing...\")\n",
    "start = time.time()\n",
    "res = minimize(neg_ln_posterior, p0, args=(dist_max, dist_obs, dist_err))\n",
    "end = time.time()\n",
    "\n",
    "print()\n",
    "if res.success:\n",
    "    print(\"Expected result: 2.0\")\n",
    "    print(\"Result:\", res.x)\n",
    "else:\n",
    "    print(\"Optimization failed\")\n",
    "    \n",
    "print(\"Elapsed time:\", end-start, \"seconds\")\n",
    "\n",
    "plt.axvline(res.x)\n",
    "plt.xlabel(r\"$\\alpha$\")\n",
    "plt.ylabel(r\"$\\mathcal{L}$\")\n",
    "plt.show()"
   ]
  }
 ],
 "metadata": {
  "kernelspec": {
   "display_name": "Python 3",
   "language": "python",
   "name": "python3"
  },
  "language_info": {
   "codemirror_mode": {
    "name": "ipython",
    "version": 3
   },
   "file_extension": ".py",
   "mimetype": "text/x-python",
   "name": "python",
   "nbconvert_exporter": "python",
   "pygments_lexer": "ipython3",
   "version": "3.6.7"
  }
 },
 "nbformat": 4,
 "nbformat_minor": 2
}
